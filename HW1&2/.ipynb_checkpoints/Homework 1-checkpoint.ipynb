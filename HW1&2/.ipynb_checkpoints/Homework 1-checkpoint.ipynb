{
 "cells": [
  {
   "cell_type": "markdown",
   "id": "f78b2c5b",
   "metadata": {},
   "source": [
    "# CSCI 4962 Homework 1\n",
    "Ethan Cruz\n",
    "\n",
    "September 6, 2022"
   ]
  },
  {
   "cell_type": "code",
   "execution_count": 1,
   "id": "4a6e820f",
   "metadata": {},
   "outputs": [],
   "source": [
    "# Imports\n",
    "import pandas as pd\n",
    "import matplotlib.pyplot as plt\n",
    "import numpy as np"
   ]
  },
  {
   "cell_type": "markdown",
   "id": "fa00083b",
   "metadata": {},
   "source": [
    "## Task 1:\n",
    "An interesting problem I'd like to solve is **\"The best mix of defense and offense to win basketball games\"**. This problem will be graphed as the percent chance of winning a game given the sum of your offensive output and your defensive output.\n",
    "\n",
    "In sports, just because you're the best doesn't mean you'll win. There is no NBA team which has gone 82-0 in the regular season. Since I want to give a probability output instead of a 1 or 0, Logistic regression is the obvious choice. It is a good model for outputting percent chance of an outcome. Not to mention, my target variable is binary (win or loss). Logistic regression can map this binary input into a probabilistic output.\n",
    "\n",
    "## Task 2:\n",
    "For the dataset, I went on kaggle and found this incredible (and massive) set of [60k+ NBA games from 1947-2021](https://www.kaggle.com/datasets/wyattowalsh/basketball). The link is to a database. Within this database, I only need one set: **Game**. Within this dataset there are 9 columns I need for my model. 1 column is home team win vs loss. The other 8 are game stats I will now explain.\n",
    "\n",
    "**Offensive Efficiency Rating** (OEG):\n",
    "First team metric I need to follow is OEG. This is a common sabermetric used to evaluate how efficiently a team's offense performed during a game. There are more complex metrics which are more popular in modern basketball statistics but for a beginning this will be good.\n",
    "\n",
    "**Defensive Efficiency Rating** (DEG):\n",
    "The second team metric is DEG. This is equivalent to the opponent's OEG.\n",
    "\n",
    "OEG requires 4 metrics: PTS, FGA, FTA, and TOV. Since DEG requires the opponent's PTS, FGA, FTA, and TOV there are 8 stats you need to track in total."
   ]
  },
  {
   "cell_type": "code",
   "execution_count": 2,
   "id": "2e0bf4bb",
   "metadata": {},
   "outputs": [],
   "source": [
    "\"\"\" Offensive Efficiency Rating formula\n",
    "    PTS = Points scored by your team\n",
    "    FGA = Field goals attempted by your team\n",
    "    FTA = Free throws attempted by your team\n",
    "    TOV = Turnovers by your team\n",
    "\"\"\"\n",
    "def getOER(PTS, FGA, FTA, TOV):\n",
    "    return PTS / (FGA + ((FTA*0.9)/2) + TOV)"
   ]
  },
  {
   "cell_type": "markdown",
   "id": "7445c17a",
   "metadata": {},
   "source": [
    "Now, lets look at our data! The columns are within the **Game** dataset. I used sqlite to gather these 9 columns of data and turned it into a csv. Scrolling through the csv, there is clearly a missing data issue. "
   ]
  },
  {
   "cell_type": "code",
   "execution_count": 3,
   "id": "b37ccb86",
   "metadata": {},
   "outputs": [
    {
     "data": {
      "text/html": [
       "<div>\n",
       "<style scoped>\n",
       "    .dataframe tbody tr th:only-of-type {\n",
       "        vertical-align: middle;\n",
       "    }\n",
       "\n",
       "    .dataframe tbody tr th {\n",
       "        vertical-align: top;\n",
       "    }\n",
       "\n",
       "    .dataframe thead th {\n",
       "        text-align: right;\n",
       "    }\n",
       "</style>\n",
       "<table border=\"1\" class=\"dataframe\">\n",
       "  <thead>\n",
       "    <tr style=\"text-align: right;\">\n",
       "      <th></th>\n",
       "      <th>WL_HOME</th>\n",
       "      <th>FGA_HOME</th>\n",
       "      <th>FTA_HOME</th>\n",
       "      <th>TOV_HOME</th>\n",
       "      <th>PTS_HOME</th>\n",
       "      <th>FGA_AWAY</th>\n",
       "      <th>FTA_AWAY</th>\n",
       "      <th>TOV_AWAY</th>\n",
       "      <th>PTS_AWAY</th>\n",
       "    </tr>\n",
       "  </thead>\n",
       "  <tbody>\n",
       "    <tr>\n",
       "      <th>0</th>\n",
       "      <td>L</td>\n",
       "      <td>NaN</td>\n",
       "      <td>29.0</td>\n",
       "      <td>NaN</td>\n",
       "      <td>66</td>\n",
       "      <td>NaN</td>\n",
       "      <td>26.0</td>\n",
       "      <td>NaN</td>\n",
       "      <td>68</td>\n",
       "    </tr>\n",
       "    <tr>\n",
       "      <th>1</th>\n",
       "      <td>W</td>\n",
       "      <td>59.0</td>\n",
       "      <td>NaN</td>\n",
       "      <td>NaN</td>\n",
       "      <td>56</td>\n",
       "      <td>72.0</td>\n",
       "      <td>NaN</td>\n",
       "      <td>NaN</td>\n",
       "      <td>51</td>\n",
       "    </tr>\n",
       "    <tr>\n",
       "      <th>2</th>\n",
       "      <td>W</td>\n",
       "      <td>NaN</td>\n",
       "      <td>NaN</td>\n",
       "      <td>NaN</td>\n",
       "      <td>63</td>\n",
       "      <td>NaN</td>\n",
       "      <td>NaN</td>\n",
       "      <td>NaN</td>\n",
       "      <td>47</td>\n",
       "    </tr>\n",
       "    <tr>\n",
       "      <th>3</th>\n",
       "      <td>W</td>\n",
       "      <td>NaN</td>\n",
       "      <td>NaN</td>\n",
       "      <td>NaN</td>\n",
       "      <td>59</td>\n",
       "      <td>NaN</td>\n",
       "      <td>NaN</td>\n",
       "      <td>NaN</td>\n",
       "      <td>53</td>\n",
       "    </tr>\n",
       "    <tr>\n",
       "      <th>4</th>\n",
       "      <td>L</td>\n",
       "      <td>NaN</td>\n",
       "      <td>NaN</td>\n",
       "      <td>NaN</td>\n",
       "      <td>33</td>\n",
       "      <td>NaN</td>\n",
       "      <td>NaN</td>\n",
       "      <td>NaN</td>\n",
       "      <td>50</td>\n",
       "    </tr>\n",
       "  </tbody>\n",
       "</table>\n",
       "</div>"
      ],
      "text/plain": [
       "  WL_HOME  FGA_HOME  FTA_HOME  TOV_HOME  PTS_HOME  FGA_AWAY  FTA_AWAY  \\\n",
       "0       L       NaN      29.0       NaN        66       NaN      26.0   \n",
       "1       W      59.0       NaN       NaN        56      72.0       NaN   \n",
       "2       W       NaN       NaN       NaN        63       NaN       NaN   \n",
       "3       W       NaN       NaN       NaN        59       NaN       NaN   \n",
       "4       L       NaN       NaN       NaN        33       NaN       NaN   \n",
       "\n",
       "   TOV_AWAY  PTS_AWAY  \n",
       "0       NaN        68  \n",
       "1       NaN        51  \n",
       "2       NaN        47  \n",
       "3       NaN        53  \n",
       "4       NaN        50  "
      ]
     },
     "execution_count": 3,
     "metadata": {},
     "output_type": "execute_result"
    }
   ],
   "source": [
    "df = pd.read_csv('basketball.csv')\n",
    "df.head()"
   ]
  },
  {
   "cell_type": "markdown",
   "id": "871c2a6b",
   "metadata": {},
   "source": [
    "Looking at the percentages, a pattern emerges:"
   ]
  },
  {
   "cell_type": "code",
   "execution_count": 4,
   "id": "68ab4d97",
   "metadata": {},
   "outputs": [
    {
     "name": "stdout",
     "output_type": "stream",
     "text": [
      "WL_HOME      0.064053\n",
      "FGA_HOME    28.602998\n",
      "FTA_HOME     4.861645\n",
      "TOV_HOME    33.539905\n",
      "PTS_HOME     0.000000\n",
      "FGA_AWAY    28.601396\n",
      "FTA_AWAY     4.856841\n",
      "TOV_AWAY    33.541507\n",
      "PTS_AWAY     0.000000\n",
      "dtype: float64\n"
     ]
    }
   ],
   "source": [
    "print(df.isna().sum() * 100 / len(df))"
   ]
  },
  {
   "cell_type": "markdown",
   "id": "828786df",
   "metadata": {},
   "source": [
    "The missing data is consistent with both teams! It became clear to me that sometime in the 1980s the NBA began mandatory recording of FGA, FGA, and TOV. This means there are decades of NBA games with full stats. Let's check how many games have full data:"
   ]
  },
  {
   "cell_type": "code",
   "execution_count": 5,
   "id": "3025ffcd",
   "metadata": {},
   "outputs": [
    {
     "name": "stdout",
     "output_type": "stream",
     "text": [
      "41460\n"
     ]
    }
   ],
   "source": [
    "df = df.dropna()\n",
    "print(len(df))"
   ]
  },
  {
   "cell_type": "markdown",
   "id": "d5754fed",
   "metadata": {},
   "source": [
    "**Wow.** Initially, I was planning to fill empty data in order to get more datapoints. Now, I don't need to. 40k+ points is more than enough for 2 variable logistic regression.\n",
    "\n",
    "The 14'-15' season was when many basketball fans consider we entered the modern era of basketball, which emphasizes the three-pointer. I believe this is relevant to what data we should gather. Therefore, I am going to grab the latest 8k games (since there are ~1,200 games a season, this is the latest 7 seasons: 2014-2021) and use those to model the learning.\n",
    "\n",
    "After this, I'll be done with my data analysis. I'll print the graph of the resulting data:"
   ]
  },
  {
   "cell_type": "code",
   "execution_count": 6,
   "id": "d6507d29",
   "metadata": {},
   "outputs": [
    {
     "data": {
      "text/plain": [
       "<AxesSubplot:xlabel='TER', ylabel='WL'>"
      ]
     },
     "execution_count": 6,
     "metadata": {},
     "output_type": "execute_result"
    },
    {
     "data": {
      "image/png": "[encoded data removed]",
      "text/plain": [
       "<Figure size 640x480 with 1 Axes>"
      ]
     },
     "metadata": {},
     "output_type": "display_data"
    }
   ],
   "source": [
    "df = df.drop(df.index[0:(len(df) - 8000)])\n",
    "# At this point, df = the latest 8000 games. Let's now use OEG formula to get our Total Effective Rating value\n",
    "TER = getOER(df['PTS_HOME'], df['FGA_HOME'], df['FTA_HOME'], df['TOV_HOME']) - getOER(df['PTS_AWAY'], df['FGA_AWAY'], df['FTA_AWAY'], df['TOV_AWAY'])\n",
    "df2 = pd.DataFrame()\n",
    "df2['WL'] = [(0,1)[ord(str(wl)[0]) > 80] for wl in df['WL_HOME']]\n",
    "df2['TER'] = [erb for erb in TER]\n",
    "df2.plot.scatter(x='TER', y='WL')"
   ]
  },
  {
   "cell_type": "markdown",
   "id": "48c4fb73",
   "metadata": {},
   "source": [
    "## Task 3:\n",
    "Now, we begin the logistic regression. We will minimize error through a cost function. Our job is to reduce cost until we have the weight vector with the minimum global cost.\n",
    "\n",
    "First off, to check accuracy, I will be taking 1000 random data points as our test set.\n",
    "\n",
    "If we use linear regression's cost function (Mean Squared Error) we will end up with lots of local minima, which will be difficut to traverse (non-convex). Because of this, we use the Log Loss formula.\n",
    "\n",
    "Since we have 7k data points, I'd rather not use batch gradient descent as it'd be heavy computation. Instead, I will be doing sochastic gradient descent over all the points\n",
    "\n",
    "The step for each iteration of SGD will occur n times, where n = 7000. In the beginning, all we have is a predictor and a cost function. The predictor function is:\n",
    "\n",
    "$a_{n} = \\sigma(w_{n - 1}x_{n} + b)$\n",
    "\n",
    "The cost function is:\n",
    "\n",
    "$cost = y_{n}^{a_{n}} + (1 - y_{n})^{(1 - a_{n})}$\n",
    "\n",
    "We derive cost to get a slope. Our plan is to follow this slope until it hits zero, at which point we're at the bottom of the cost curve, aka minimum cost! Derivative of cost function is:\n",
    "\n",
    "$DC = y_{n}log(a_{n}) + (1 - y_{n})log(1 - a_{n})$\n",
    "\n",
    "For each iteration n we update weights depending on DC:\n",
    "\n",
    "$w_{n} = w_{n - 1} - DC$\n",
    "\n",
    "Let's implement this."
   ]
  },
  {
   "cell_type": "code",
   "execution_count": null,
   "id": "2dd5da2e",
   "metadata": {},
   "outputs": [],
   "source": [
    "# grab 1k samples and shuffle the remaining 6k\n",
    "testdf = df.sample(1000)\n",
    "traindf = df.drop(testdf.index).sample(frac=1)\n",
    "\n",
    "# turn into numpy arrays\n",
    "test = testdf.to_numpy()\n",
    "train = traindf.to_numpy()\n",
    "\n",
    "# weights vector\n",
    "w = np.zeros(train[0].size)\n",
    "\n",
    "# sigmoid formula\n",
    "def sig(x):\n",
    "    return\n",
    "\n",
    "# predictor\n",
    "def p(w,x,b):\n",
    "    return(sig(np.dot(w.T,x) + b))\n",
    "\n",
    "# sgd\n",
    "for x in train:\n",
    "    "
   ]
  },
  {
   "cell_type": "code",
   "execution_count": null,
   "id": "96415e9e",
   "metadata": {},
   "outputs": [],
   "source": []
  }
 ],
 "metadata": {
  "kernelspec": {
   "display_name": "Python 3 (ipykernel)",
   "language": "python",
   "name": "python3"
  },
  "language_info": {
   "codemirror_mode": {
    "name": "ipython",
    "version": 3
   },
   "file_extension": ".py",
   "mimetype": "text/x-python",
   "name": "python",
   "nbconvert_exporter": "python",
   "pygments_lexer": "ipython3",
   "version": "3.10.6"
  }
 },
 "nbformat": 4,
 "nbformat_minor": 5
}
